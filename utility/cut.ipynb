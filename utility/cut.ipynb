{
 "cells": [
  {
   "cell_type": "code",
   "execution_count": 19,
   "id": "282db008",
   "metadata": {},
   "outputs": [],
   "source": [
    "import os\n",
    "import glob\n",
    "import random\n",
    "import shutil"
   ]
  },
  {
   "cell_type": "code",
   "execution_count": 6,
   "id": "9911ca9f",
   "metadata": {},
   "outputs": [],
   "source": [
    "origin='/home/yao/FL_CAE/dataset/yt_small_720p/'\n",
    "new='/home/yao/FL_CAE/dataset/Local_dataset/'"
   ]
  },
  {
   "cell_type": "code",
   "execution_count": null,
   "id": "909a5033",
   "metadata": {},
   "outputs": [],
   "source": [
    "qry =origin+'*.bmp'\n",
    "files = glob.glob(qry)\n",
    "files\n",
    "random.shuffle(files)"
   ]
  },
  {
   "cell_type": "code",
   "execution_count": 23,
   "id": "bd57078d",
   "metadata": {},
   "outputs": [],
   "source": [
    "for i in range(10):\n",
    "    os.makedirs(new + 'D' + str(i+1), exist_ok=True)\n",
    "    des = new + 'D' + str(i+1)\n",
    "    for j in range(200):\n",
    "        if os.path.isfile(files[i*200+j]):\n",
    "            shutil.copy(files[i*200+j], des)"
   ]
  },
  {
   "cell_type": "code",
   "execution_count": 25,
   "id": "e0098b35",
   "metadata": {},
   "outputs": [],
   "source": [
    "for j in range(2000, len(files)):\n",
    "    des = '/home/yao/FL_CAE/dataset/Local_dataset/D_t'\n",
    "    if os.path.isfile(files[i*200+j]):\n",
    "        shutil.copy(files[j], des)"
   ]
  },
  {
   "cell_type": "code",
   "execution_count": null,
   "id": "d8c367c5",
   "metadata": {},
   "outputs": [],
   "source": []
  },
  {
   "cell_type": "code",
   "execution_count": null,
   "id": "6565c5c8",
   "metadata": {},
   "outputs": [],
   "source": []
  },
  {
   "cell_type": "code",
   "execution_count": 17,
   "id": "64190ee6",
   "metadata": {},
   "outputs": [],
   "source": []
  }
 ],
 "metadata": {
  "kernelspec": {
   "display_name": "Python 3",
   "language": "python",
   "name": "python3"
  },
  "language_info": {
   "codemirror_mode": {
    "name": "ipython",
    "version": 3
   },
   "file_extension": ".py",
   "mimetype": "text/x-python",
   "name": "python",
   "nbconvert_exporter": "python",
   "pygments_lexer": "ipython3",
   "version": "3.8.8"
  },
  "varInspector": {
   "cols": {
    "lenName": 16,
    "lenType": 16,
    "lenVar": 40
   },
   "kernels_config": {
    "python": {
     "delete_cmd_postfix": "",
     "delete_cmd_prefix": "del ",
     "library": "var_list.py",
     "varRefreshCmd": "print(var_dic_list())"
    },
    "r": {
     "delete_cmd_postfix": ") ",
     "delete_cmd_prefix": "rm(",
     "library": "var_list.r",
     "varRefreshCmd": "cat(var_dic_list()) "
    }
   },
   "types_to_exclude": [
    "module",
    "function",
    "builtin_function_or_method",
    "instance",
    "_Feature"
   ],
   "window_display": false
  }
 },
 "nbformat": 4,
 "nbformat_minor": 5
}
